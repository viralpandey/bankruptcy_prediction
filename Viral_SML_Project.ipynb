{
 "cells": [
  {
   "cell_type": "code",
   "execution_count": 1,
   "metadata": {},
   "outputs": [],
   "source": [
    "import numpy as np\n",
    "import pandas as pd\n",
    "import matplotlib.pyplot as plt\n",
    "from sklearn.preprocessing import Imputer\n",
    "from sklearn.model_selection import train_test_split\n",
    "from sklearn.linear_model import LogisticRegression\n",
    "from sklearn.metrics import log_loss,confusion_matrix,classification_report,roc_curve,auc\n",
    "from sklearn.metrics import average_precision_score\n",
    "from sklearn.metrics import f1_score\n",
    "from sklearn.metrics import precision_recall_curve\n",
    "from imblearn.over_sampling import SMOTE\n",
    "from sklearn.utils.fixes import signature\n",
    "from sklearn import preprocessing\n",
    "import warnings\n",
    "warnings.filterwarnings('ignore')"
   ]
  },
  {
   "cell_type": "code",
   "execution_count": 2,
   "metadata": {},
   "outputs": [],
   "source": [
    "year1 = pd.read_csv('/Users/viralpandey/Downloads/Data/bankruptcy/1year.csv')\n",
    "year2 = pd.read_csv('/Users/viralpandey/Downloads/Data/bankruptcy/2year.csv')\n",
    "year3 = pd.read_csv('/Users/viralpandey/Downloads/Data/bankruptcy/3year.csv')\n",
    "year4 = pd.read_csv('/Users/viralpandey/Downloads/Data/bankruptcy/4year.csv')\n",
    "year5 = pd.read_csv('/Users/viralpandey/Downloads/Data/bankruptcy/5year.csv')"
   ]
  },
  {
   "cell_type": "code",
   "execution_count": 3,
   "metadata": {},
   "outputs": [
    {
     "data": {
      "text/html": [
       "<div>\n",
       "<style scoped>\n",
       "    .dataframe tbody tr th:only-of-type {\n",
       "        vertical-align: middle;\n",
       "    }\n",
       "\n",
       "    .dataframe tbody tr th {\n",
       "        vertical-align: top;\n",
       "    }\n",
       "\n",
       "    .dataframe thead th {\n",
       "        text-align: right;\n",
       "    }\n",
       "</style>\n",
       "<table border=\"1\" class=\"dataframe\">\n",
       "  <thead>\n",
       "    <tr style=\"text-align: right;\">\n",
       "      <th></th>\n",
       "      <th>id</th>\n",
       "      <th>Attr1</th>\n",
       "      <th>Attr2</th>\n",
       "      <th>Attr3</th>\n",
       "      <th>Attr4</th>\n",
       "      <th>Attr5</th>\n",
       "      <th>Attr6</th>\n",
       "      <th>Attr7</th>\n",
       "      <th>Attr8</th>\n",
       "      <th>Attr9</th>\n",
       "      <th>...</th>\n",
       "      <th>Attr56</th>\n",
       "      <th>Attr57</th>\n",
       "      <th>Attr58</th>\n",
       "      <th>Attr59</th>\n",
       "      <th>Attr60</th>\n",
       "      <th>Attr61</th>\n",
       "      <th>Attr62</th>\n",
       "      <th>Attr63</th>\n",
       "      <th>Attr64</th>\n",
       "      <th>class</th>\n",
       "    </tr>\n",
       "  </thead>\n",
       "  <tbody>\n",
       "    <tr>\n",
       "      <th>0</th>\n",
       "      <td>1</td>\n",
       "      <td>0.20055</td>\n",
       "      <td>0.37951</td>\n",
       "      <td>0.39641</td>\n",
       "      <td>2.0472</td>\n",
       "      <td>32.351</td>\n",
       "      <td>0.38825</td>\n",
       "      <td>0.24976</td>\n",
       "      <td>1.3305</td>\n",
       "      <td>1.1389</td>\n",
       "      <td>...</td>\n",
       "      <td>0.121960</td>\n",
       "      <td>0.39718</td>\n",
       "      <td>0.87804</td>\n",
       "      <td>0.001924</td>\n",
       "      <td>8.416</td>\n",
       "      <td>5.1372</td>\n",
       "      <td>82.658</td>\n",
       "      <td>4.4158</td>\n",
       "      <td>7.4277</td>\n",
       "      <td>0</td>\n",
       "    </tr>\n",
       "    <tr>\n",
       "      <th>1</th>\n",
       "      <td>2</td>\n",
       "      <td>0.20912</td>\n",
       "      <td>0.49988</td>\n",
       "      <td>0.47225</td>\n",
       "      <td>1.9447</td>\n",
       "      <td>14.786</td>\n",
       "      <td>0</td>\n",
       "      <td>0.25834</td>\n",
       "      <td>0.99601</td>\n",
       "      <td>1.6996</td>\n",
       "      <td>...</td>\n",
       "      <td>0.121300</td>\n",
       "      <td>0.42002</td>\n",
       "      <td>0.85300</td>\n",
       "      <td>0</td>\n",
       "      <td>4.1486</td>\n",
       "      <td>3.2732</td>\n",
       "      <td>107.350</td>\n",
       "      <td>3.4</td>\n",
       "      <td>60.987</td>\n",
       "      <td>0</td>\n",
       "    </tr>\n",
       "    <tr>\n",
       "      <th>2</th>\n",
       "      <td>3</td>\n",
       "      <td>0.24866</td>\n",
       "      <td>0.69592</td>\n",
       "      <td>0.26713</td>\n",
       "      <td>1.5548</td>\n",
       "      <td>-1.1523</td>\n",
       "      <td>0</td>\n",
       "      <td>0.30906</td>\n",
       "      <td>0.43695</td>\n",
       "      <td>1.309</td>\n",
       "      <td>...</td>\n",
       "      <td>0.241140</td>\n",
       "      <td>0.81774</td>\n",
       "      <td>0.76599</td>\n",
       "      <td>0.69484</td>\n",
       "      <td>4.9909</td>\n",
       "      <td>3.951</td>\n",
       "      <td>134.270</td>\n",
       "      <td>2.7185</td>\n",
       "      <td>5.2078</td>\n",
       "      <td>0</td>\n",
       "    </tr>\n",
       "    <tr>\n",
       "      <th>3</th>\n",
       "      <td>4</td>\n",
       "      <td>0.081483</td>\n",
       "      <td>0.30734</td>\n",
       "      <td>0.45879</td>\n",
       "      <td>2.4928</td>\n",
       "      <td>51.952</td>\n",
       "      <td>0.14988</td>\n",
       "      <td>0.092704</td>\n",
       "      <td>1.8661</td>\n",
       "      <td>1.0571</td>\n",
       "      <td>...</td>\n",
       "      <td>0.054015</td>\n",
       "      <td>0.14207</td>\n",
       "      <td>0.94598</td>\n",
       "      <td>0</td>\n",
       "      <td>4.5746</td>\n",
       "      <td>3.6147</td>\n",
       "      <td>86.435</td>\n",
       "      <td>4.2228</td>\n",
       "      <td>5.5497</td>\n",
       "      <td>0</td>\n",
       "    </tr>\n",
       "    <tr>\n",
       "      <th>4</th>\n",
       "      <td>5</td>\n",
       "      <td>0.18732</td>\n",
       "      <td>0.61323</td>\n",
       "      <td>0.2296</td>\n",
       "      <td>1.4063</td>\n",
       "      <td>-7.3128</td>\n",
       "      <td>0.18732</td>\n",
       "      <td>0.18732</td>\n",
       "      <td>0.6307</td>\n",
       "      <td>1.1559</td>\n",
       "      <td>...</td>\n",
       "      <td>0.134850</td>\n",
       "      <td>0.48431</td>\n",
       "      <td>0.86515</td>\n",
       "      <td>0.12444</td>\n",
       "      <td>6.3985</td>\n",
       "      <td>4.3158</td>\n",
       "      <td>127.210</td>\n",
       "      <td>2.8692</td>\n",
       "      <td>7.898</td>\n",
       "      <td>0</td>\n",
       "    </tr>\n",
       "  </tbody>\n",
       "</table>\n",
       "<p>5 rows × 66 columns</p>\n",
       "</div>"
      ],
      "text/plain": [
       "   id     Attr1    Attr2    Attr3   Attr4    Attr5    Attr6     Attr7  \\\n",
       "0   1   0.20055  0.37951  0.39641  2.0472   32.351  0.38825   0.24976   \n",
       "1   2   0.20912  0.49988  0.47225  1.9447   14.786        0   0.25834   \n",
       "2   3   0.24866  0.69592  0.26713  1.5548  -1.1523        0   0.30906   \n",
       "3   4  0.081483  0.30734  0.45879  2.4928   51.952  0.14988  0.092704   \n",
       "4   5   0.18732  0.61323   0.2296  1.4063  -7.3128  0.18732   0.18732   \n",
       "\n",
       "     Attr8   Attr9  ...      Attr56   Attr57   Attr58    Attr59  Attr60  \\\n",
       "0   1.3305  1.1389  ...    0.121960  0.39718  0.87804  0.001924   8.416   \n",
       "1  0.99601  1.6996  ...    0.121300  0.42002  0.85300         0  4.1486   \n",
       "2  0.43695   1.309  ...    0.241140  0.81774  0.76599   0.69484  4.9909   \n",
       "3   1.8661  1.0571  ...    0.054015  0.14207  0.94598         0  4.5746   \n",
       "4   0.6307  1.1559  ...    0.134850  0.48431  0.86515   0.12444  6.3985   \n",
       "\n",
       "   Attr61   Attr62  Attr63  Attr64  class  \n",
       "0  5.1372   82.658  4.4158  7.4277      0  \n",
       "1  3.2732  107.350     3.4  60.987      0  \n",
       "2   3.951  134.270  2.7185  5.2078      0  \n",
       "3  3.6147   86.435  4.2228  5.5497      0  \n",
       "4  4.3158  127.210  2.8692   7.898      0  \n",
       "\n",
       "[5 rows x 66 columns]"
      ]
     },
     "execution_count": 3,
     "metadata": {},
     "output_type": "execute_result"
    }
   ],
   "source": [
    "year1.head()"
   ]
  },
  {
   "cell_type": "code",
   "execution_count": 4,
   "metadata": {},
   "outputs": [],
   "source": [
    "year1 = year1.drop(['id'], axis = 1)\n",
    "year2 = year2.drop(['id'], axis = 1)\n",
    "year3 = year3.drop(['id'], axis = 1)\n",
    "year4 = year4.drop(['id'], axis = 1)\n",
    "year5 = year5.drop(['id'], axis = 1)"
   ]
  },
  {
   "cell_type": "code",
   "execution_count": 5,
   "metadata": {},
   "outputs": [],
   "source": [
    "years = [year1, year2, year3, year4, year5]\n",
    "for i in range(len(years)):\n",
    "    years[i] = years[i].replace('?', np.nan)"
   ]
  },
  {
   "cell_type": "markdown",
   "metadata": {},
   "source": [
    "# Converting data types of each columns accordingly"
   ]
  },
  {
   "cell_type": "code",
   "execution_count": 6,
   "metadata": {},
   "outputs": [],
   "source": [
    "def convert_columns_type_float(dfs):\n",
    "    for i in range(5):\n",
    "        index = 1\n",
    "        while(index<=63):\n",
    "            colname = dfs[i].columns[index]\n",
    "            col = getattr(dfs[i], colname)\n",
    "            dfs[i][colname] = col.astype('float')\n",
    "            index+=1\n",
    "        colname = dfs[i].columns[64]\n",
    "        col = getattr(dfs[i], colname)\n",
    "        dfs[i][colname] = col.astype('category')       \n",
    "    return dfs\n",
    "            \n",
    "years = convert_columns_type_float(years)"
   ]
  },
  {
   "cell_type": "markdown",
   "metadata": {},
   "source": [
    "# Handling missing values using mean imputation"
   ]
  },
  {
   "cell_type": "code",
   "execution_count": 7,
   "metadata": {},
   "outputs": [],
   "source": [
    "def perform_mean_imputation(dfs):\n",
    "    # Construct an imputer with strategy as 'mean', to mean-impute along the columns\n",
    "    imputer = Imputer(missing_values= np.nan, strategy='mean', axis=0)\n",
    "    mean_imputed_dfs = [pd.DataFrame(imputer.fit_transform(df)) for df in dfs]\n",
    "    for i in range(len(dfs)):\n",
    "        mean_imputed_dfs[i].columns = dfs[i].columns   \n",
    "    return mean_imputed_dfs\n",
    "\n",
    "years = perform_mean_imputation(years)"
   ]
  },
  {
   "cell_type": "code",
   "execution_count": 8,
   "metadata": {},
   "outputs": [
    {
     "name": "stdout",
     "output_type": "stream",
     "text": [
      "False\n",
      "False\n",
      "False\n",
      "False\n",
      "False\n"
     ]
    }
   ],
   "source": [
    "for i in range(5):\n",
    "    print(years[i].isnull().values.any())"
   ]
  },
  {
   "cell_type": "markdown",
   "metadata": {},
   "source": [
    "# Dropping Highly Correlated columns"
   ]
  },
  {
   "cell_type": "code",
   "execution_count": 9,
   "metadata": {},
   "outputs": [],
   "source": [
    "for i in range(5):\n",
    "    years[i] = years[i].drop(['Attr19', 'Attr20','Attr23', \n",
    "                             'Attr30','Attr31','Attr39', \n",
    "                             'Attr42','Attr43','Attr44', \n",
    "                             'Attr49','Attr56','Attr58','Attr62'], axis=1)"
   ]
  },
  {
   "cell_type": "code",
   "execution_count": 10,
   "metadata": {},
   "outputs": [
    {
     "name": "stdout",
     "output_type": "stream",
     "text": [
      "(7027, 52)\n",
      "(10173, 52)\n",
      "(10503, 52)\n",
      "(9792, 52)\n",
      "(5910, 52)\n"
     ]
    }
   ],
   "source": [
    "for i in range(5):\n",
    "    print(years[i].shape)"
   ]
  },
  {
   "cell_type": "markdown",
   "metadata": {},
   "source": [
    "# Performing logistic regression on mean imputed data"
   ]
  },
  {
   "cell_type": "code",
   "execution_count": 11,
   "metadata": {},
   "outputs": [],
   "source": [
    "year1train, year1val = train_test_split(years[0], test_size=0.2, random_state=2018)\n",
    "year2train, year2val = train_test_split(years[1], test_size=0.2, random_state=2018)\n",
    "year3train, year3val = train_test_split(years[2], test_size=0.2, random_state=2018)\n",
    "year4train, year4val = train_test_split(years[3], test_size=0.2, random_state=2018)\n",
    "year5train, year5val = train_test_split(years[4], test_size=0.2, random_state=2018)\n",
    "\n",
    "yearstrain = [year1train, year2train, year3train, year4train, year5train]\n",
    "yearsval = [year1val, year2val, year3val, year4val, year5val]"
   ]
  },
  {
   "cell_type": "code",
   "execution_count": 12,
   "metadata": {},
   "outputs": [],
   "source": [
    "classyear1train = pd.DataFrame(yearstrain[0].pop('class').values)\n",
    "classyear2train = pd.DataFrame(yearstrain[1].pop('class').values)\n",
    "classyear3train = pd.DataFrame(yearstrain[2].pop('class').values)\n",
    "classyear4train = pd.DataFrame(yearstrain[3].pop('class').values)\n",
    "classyear5train = pd.DataFrame(yearstrain[4].pop('class').values)\n",
    "\n",
    "classyear1val = pd.DataFrame(yearsval[0].pop('class').values)\n",
    "classyear2val = pd.DataFrame(yearsval[1].pop('class').values)\n",
    "classyear3val = pd.DataFrame(yearsval[2].pop('class').values)\n",
    "classyear4val = pd.DataFrame(yearsval[3].pop('class').values)\n",
    "classyear5val = pd.DataFrame(yearsval[4].pop('class').values)"
   ]
  },
  {
   "cell_type": "code",
   "execution_count": 13,
   "metadata": {},
   "outputs": [],
   "source": [
    "for i in range(5):\n",
    "    yearstrain[i] = preprocessing.normalize(yearstrain[i])\n",
    "    yearsval[i] = preprocessing.normalize(yearsval[i])"
   ]
  },
  {
   "cell_type": "code",
   "execution_count": 14,
   "metadata": {},
   "outputs": [],
   "source": [
    "classtrain = [classyear1train, classyear2train, classyear3train, classyear4train, classyear5train]\n",
    "classval = [classyear1val, classyear2val, classyear3val, classyear4val, classyear5val]\n",
    "\n",
    "for i in range(5):\n",
    "    classtrain[i].columns = ['class']\n",
    "    classval[i].columns = ['class']"
   ]
  },
  {
   "cell_type": "code",
   "execution_count": 15,
   "metadata": {},
   "outputs": [],
   "source": [
    "logisticModel = LogisticRegression(penalty = 'l1', C=0.5)"
   ]
  },
  {
   "cell_type": "code",
   "execution_count": 16,
   "metadata": {},
   "outputs": [
    {
     "name": "stdout",
     "output_type": "stream",
     "text": [
      "Classification report for Year 1\n",
      "              precision    recall  f1-score   support\n",
      "\n",
      "         0.0       0.97      1.00      0.98      1359\n",
      "         1.0       0.00      0.00      0.00        47\n",
      "\n",
      "   micro avg       0.97      0.97      0.97      1406\n",
      "   macro avg       0.48      0.50      0.49      1406\n",
      "weighted avg       0.93      0.97      0.95      1406\n",
      "\n",
      "Classification report for Year 2\n",
      "              precision    recall  f1-score   support\n",
      "\n",
      "         0.0       0.96      1.00      0.98      1959\n",
      "         1.0       0.00      0.00      0.00        76\n",
      "\n",
      "   micro avg       0.96      0.96      0.96      2035\n",
      "   macro avg       0.48      0.50      0.49      2035\n",
      "weighted avg       0.93      0.96      0.94      2035\n",
      "\n",
      "Classification report for Year 3\n",
      "              precision    recall  f1-score   support\n",
      "\n",
      "         0.0       0.96      1.00      0.98      2014\n",
      "         1.0       0.00      0.00      0.00        87\n",
      "\n",
      "   micro avg       0.96      0.96      0.96      2101\n",
      "   macro avg       0.48      0.50      0.49      2101\n",
      "weighted avg       0.92      0.96      0.94      2101\n",
      "\n",
      "Classification report for Year 4\n",
      "              precision    recall  f1-score   support\n",
      "\n",
      "         0.0       0.95      1.00      0.98      1864\n",
      "         1.0       0.00      0.00      0.00        95\n",
      "\n",
      "   micro avg       0.95      0.95      0.95      1959\n",
      "   macro avg       0.48      0.50      0.49      1959\n",
      "weighted avg       0.91      0.95      0.93      1959\n",
      "\n",
      "Classification report for Year 5\n",
      "              precision    recall  f1-score   support\n",
      "\n",
      "         0.0       0.94      1.00      0.97      1106\n",
      "         1.0       0.00      0.00      0.00        76\n",
      "\n",
      "   micro avg       0.94      0.94      0.94      1182\n",
      "   macro avg       0.47      0.50      0.48      1182\n",
      "weighted avg       0.88      0.94      0.90      1182\n",
      "\n"
     ]
    }
   ],
   "source": [
    "predictions=[]\n",
    "avg_score = []\n",
    "for i in range(5):\n",
    "    logisticModel.fit(yearstrain[i], classtrain[i])\n",
    "    predictions.append(logisticModel.predict(yearsval[i]))\n",
    "    avg_score.append(average_precision_score(classval[i], predictions[i]))\n",
    "    print(\"Classification report for Year\",i+1)\n",
    "    print(classification_report(classval[i], predictions[i]))"
   ]
  },
  {
   "cell_type": "markdown",
   "metadata": {},
   "source": [
    "# Performing SMOTE to handle class imbalance"
   ]
  },
  {
   "cell_type": "code",
   "execution_count": 17,
   "metadata": {},
   "outputs": [
    {
     "name": "stdout",
     "output_type": "stream",
     "text": [
      "Before OverSampling, counts of label '1': 224\n",
      "Before OverSampling, counts of label '0': 5397\n"
     ]
    }
   ],
   "source": [
    "count0, count1 = 0, 0\n",
    "for x in classtrain[0]['class']:\n",
    "    if x == 0:\n",
    "        count0 += 1\n",
    "    else:\n",
    "        count1 += 1       \n",
    "print(\"Before OverSampling, counts of label '1':\", count1)\n",
    "print(\"Before OverSampling, counts of label '0':\", count0)"
   ]
  },
  {
   "cell_type": "code",
   "execution_count": 18,
   "metadata": {},
   "outputs": [],
   "source": [
    "sm = SMOTE(random_state=2)\n",
    "smote_year1train, smote_class1train = sm.fit_sample(yearstrain[0], classtrain[0].values)\n",
    "smote_year2train, smote_class2train = sm.fit_sample(yearstrain[1], classtrain[1].values)\n",
    "smote_year3train, smote_class3train = sm.fit_sample(yearstrain[2], classtrain[2].values)\n",
    "smote_year4train, smote_class4train = sm.fit_sample(yearstrain[3], classtrain[3].values)\n",
    "smote_year5train, smote_class5train = sm.fit_sample(yearstrain[4], classtrain[4].values)\n",
    "\n",
    "smote_yearstrain = [smote_year1train, smote_year2train, smote_year3train, smote_year4train, smote_year5train]\n",
    "smote_classtrain = [smote_class1train, smote_class2train, smote_class3train, smote_class4train, smote_class5train]"
   ]
  },
  {
   "cell_type": "code",
   "execution_count": null,
   "metadata": {},
   "outputs": [],
   "source": []
  },
  {
   "cell_type": "code",
   "execution_count": 19,
   "metadata": {},
   "outputs": [
    {
     "name": "stdout",
     "output_type": "stream",
     "text": [
      "After OverSampling, the shape of year  1  train set: (10794, 51)\n",
      "After OverSampling, the shape of year  1  class set: (10794,)\n",
      "After OverSampling, counts of label '1': 5397\n",
      "After OverSampling, counts of label '0': 5397\n",
      "After OverSampling, the shape of year  2  train set: (15628, 51)\n",
      "After OverSampling, the shape of year  2  class set: (15628,)\n",
      "After OverSampling, counts of label '1': 7814\n",
      "After OverSampling, counts of label '0': 7814\n",
      "After OverSampling, the shape of year  3  train set: (15988, 51)\n",
      "After OverSampling, the shape of year  3  class set: (15988,)\n",
      "After OverSampling, counts of label '1': 7994\n",
      "After OverSampling, counts of label '0': 7994\n",
      "After OverSampling, the shape of year  4  train set: (14826, 51)\n",
      "After OverSampling, the shape of year  4  class set: (14826,)\n",
      "After OverSampling, counts of label '1': 7413\n",
      "After OverSampling, counts of label '0': 7413\n",
      "After OverSampling, the shape of year  5  train set: (8788, 51)\n",
      "After OverSampling, the shape of year  5  class set: (8788,)\n",
      "After OverSampling, counts of label '1': 4394\n",
      "After OverSampling, counts of label '0': 4394\n"
     ]
    }
   ],
   "source": [
    "for i in range(5):\n",
    "    print('After OverSampling, the shape of year ',i+1,' train set:', smote_yearstrain[i].shape)\n",
    "    print('After OverSampling, the shape of year ',i+1,' class set:', smote_classtrain[i].shape)\n",
    "\n",
    "    print(\"After OverSampling, counts of label '1': {}\".format(np.sum(smote_classtrain[i]==1)))\n",
    "    print(\"After OverSampling, counts of label '0': {}\".format(np.sum(smote_classtrain[i]==0)))\n",
    "    "
   ]
  },
  {
   "cell_type": "markdown",
   "metadata": {},
   "source": [
    "# Fitting logistic regression on oversampled data using SMOTE"
   ]
  },
  {
   "cell_type": "code",
   "execution_count": 20,
   "metadata": {},
   "outputs": [
    {
     "name": "stdout",
     "output_type": "stream",
     "text": [
      "Classification report for Year 1\n",
      "              precision    recall  f1-score   support\n",
      "\n",
      "         0.0       0.98      0.74      0.84      1359\n",
      "         1.0       0.08      0.64      0.14        47\n",
      "\n",
      "   micro avg       0.73      0.73      0.73      1406\n",
      "   macro avg       0.53      0.69      0.49      1406\n",
      "weighted avg       0.95      0.73      0.82      1406\n",
      "\n",
      "Classification report for Year 2\n",
      "              precision    recall  f1-score   support\n",
      "\n",
      "         0.0       0.98      0.65      0.78      1959\n",
      "         1.0       0.06      0.59      0.11        76\n",
      "\n",
      "   micro avg       0.64      0.64      0.64      2035\n",
      "   macro avg       0.52      0.62      0.44      2035\n",
      "weighted avg       0.94      0.64      0.75      2035\n",
      "\n",
      "Classification report for Year 3\n",
      "              precision    recall  f1-score   support\n",
      "\n",
      "         0.0       0.97      0.72      0.83      2014\n",
      "         1.0       0.07      0.49      0.12        87\n",
      "\n",
      "   micro avg       0.71      0.71      0.71      2101\n",
      "   macro avg       0.52      0.61      0.48      2101\n",
      "weighted avg       0.93      0.71      0.80      2101\n",
      "\n",
      "Classification report for Year 4\n",
      "              precision    recall  f1-score   support\n",
      "\n",
      "         0.0       0.96      0.72      0.83      1864\n",
      "         1.0       0.08      0.45      0.13        95\n",
      "\n",
      "   micro avg       0.71      0.71      0.71      1959\n",
      "   macro avg       0.52      0.59      0.48      1959\n",
      "weighted avg       0.92      0.71      0.79      1959\n",
      "\n",
      "Classification report for Year 5\n",
      "              precision    recall  f1-score   support\n",
      "\n",
      "         0.0       0.97      0.79      0.87      1106\n",
      "         1.0       0.18      0.66      0.28        76\n",
      "\n",
      "   micro avg       0.78      0.78      0.78      1182\n",
      "   macro avg       0.57      0.72      0.57      1182\n",
      "weighted avg       0.92      0.78      0.83      1182\n",
      "\n"
     ]
    }
   ],
   "source": [
    "smote_predictions=[]\n",
    "smote_avg_score = []\n",
    "for i in range(5):\n",
    "    logisticModel.fit(smote_yearstrain[i], smote_classtrain[i])\n",
    "    smote_predictions.append(logisticModel.predict(yearsval[i]))\n",
    "    smote_avg_score.append(f1_score(classval[i], smote_predictions[i]))\n",
    "    print(\"Classification report for Year\",i+1)\n",
    "    print(classification_report(classval[i],smote_predictions[i]))"
   ]
  },
  {
   "cell_type": "markdown",
   "metadata": {},
   "source": [
    "# No improvement in the model"
   ]
  },
  {
   "cell_type": "code",
   "execution_count": 21,
   "metadata": {},
   "outputs": [
    {
     "data": {
      "image/png": "[encoded data removed]",
      "text/plain": [
       "<Figure size 1080x720 with 1 Axes>"
      ]
     },
     "metadata": {
      "needs_background": "light"
     },
     "output_type": "display_data"
    }
   ],
   "source": [
    "bars = []\n",
    "rx = []\n",
    "barWidth = 0.15\n",
    "\n",
    "for i in range(5):\n",
    "    bars.append([avg_score[i], smote_avg_score[i]])\n",
    "    if i==0:\n",
    "        rx.append(np.arange(len(bars[0])))\n",
    "    else:\n",
    "        rx.append([x + barWidth for x in rx[i-1]])\n",
    "        font = {'family' : 'normal',\n",
    "        'weight' : 'bold',\n",
    "        'size'   : '15'}\n",
    "\n",
    "# Make the plot\n",
    "plt.figure(figsize = (15, 10))\n",
    "plt.rc('font', **font)\n",
    "plt.bar(rx[0], bars[0], color='darkslategrey', width=barWidth, edgecolor='white', label='year 1')\n",
    "plt.bar(rx[1], bars[1], color='teal', width=barWidth, edgecolor='white', label='year 2')\n",
    "plt.bar(rx[2], bars[2], color='darkcyan', width=barWidth, edgecolor='white', label='year 3')\n",
    "plt.bar(rx[3], bars[3], color='c', width=barWidth, edgecolor='white', label='year 4')\n",
    "plt.bar(rx[4], bars[4], color='darkturquoise', width=barWidth, edgecolor='white', label='year 5')\n",
    " \n",
    "# Add xticks on the middle of the group bars\n",
    "plt.xticks([r + barWidth for r in range(len(bars[0]))], ['Before SMOTE', 'After SMOTE'])\n",
    " \n",
    "# Create legend & Show graphic\n",
    "plt.legend(loc = 'upper left')\n",
    "plt.title('Logistic Regression F1 Scores')\n",
    "plt.show()"
   ]
  },
  {
   "cell_type": "code",
   "execution_count": 22,
   "metadata": {},
   "outputs": [
    {
     "data": {
      "text/plain": [
       "[0.033428165007112376,\n",
       " 0.03734643734643735,\n",
       " 0.04140885292717753,\n",
       " 0.04849412965798877,\n",
       " 0.06429780033840947]"
      ]
     },
     "execution_count": 22,
     "metadata": {},
     "output_type": "execute_result"
    }
   ],
   "source": [
    "avg_score"
   ]
  },
  {
   "cell_type": "code",
   "execution_count": 23,
   "metadata": {},
   "outputs": [
    {
     "data": {
      "text/plain": [
       "[0.13856812933025403,\n",
       " 0.1107011070110701,\n",
       " 0.12445730824891463,\n",
       " 0.13129770992366413,\n",
       " 0.27777777777777773]"
      ]
     },
     "execution_count": 23,
     "metadata": {},
     "output_type": "execute_result"
    }
   ],
   "source": [
    "smote_avg_score"
   ]
  },
  {
   "cell_type": "code",
   "execution_count": 24,
   "metadata": {},
   "outputs": [],
   "source": [
    "l2_smote_predictions=[]\n",
    "l2_smote_avg_score = []\n",
    "logisticModel2 = LogisticRegression(penalty = 'l2', C=0.5)\n",
    "for i in range(5):\n",
    "    logisticModel2.fit(smote_yearstrain[i], smote_classtrain[i])\n",
    "    l2_smote_predictions.append(logisticModel2.predict(yearsval[i]))\n",
    "    l2_smote_avg_score.append(average_precision_score(classval[i], l2_smote_predictions[i]))"
   ]
  },
  {
   "cell_type": "code",
   "execution_count": 25,
   "metadata": {},
   "outputs": [
    {
     "data": {
      "image/png": "[encoded data removed]",
      "text/plain": [
       "<Figure size 1080x720 with 1 Axes>"
      ]
     },
     "metadata": {
      "needs_background": "light"
     },
     "output_type": "display_data"
    }
   ],
   "source": [
    "l2_bars = []\n",
    "rx = []\n",
    "barWidth = 0.15\n",
    "for i in range(5):\n",
    "    l2_bars.append([smote_avg_score[i], l2_smote_avg_score[i]])\n",
    "    if i==0:\n",
    "        rx.append(np.arange(len(l2_bars[0])))\n",
    "    else:\n",
    "        rx.append([x + barWidth for x in rx[i-1]])\n",
    "\n",
    "        font = {'family' : 'normal',\n",
    "        'weight' : 'bold',\n",
    "        'size'   : '15'}\n",
    "\n",
    "\n",
    "# Make the plot\n",
    "plt.figure(figsize = (15, 10))\n",
    "plt.rc('font', **font)\n",
    "plt.bar(rx[0], l2_bars[0], color='darkslategrey', width=barWidth, edgecolor='white', label='year 1')\n",
    "plt.bar(rx[1], l2_bars[1], color='teal', width=barWidth, edgecolor='white', label='year 2')\n",
    "plt.bar(rx[2], l2_bars[2], color='darkcyan', width=barWidth, edgecolor='white', label='year 3')\n",
    "plt.bar(rx[3], l2_bars[3], color='c', width=barWidth, edgecolor='white', label='year 4')\n",
    "plt.bar(rx[4], l2_bars[4], color='darkturquoise', width=barWidth, edgecolor='white', label='year 5')\n",
    " \n",
    "# Add xticks on the middle of the group bars\n",
    "plt.xticks([r + barWidth for r in range(len(l2_bars[0]))], ['Lasso', 'Ridge'])\n",
    " \n",
    "# Create legend & Show graphic\n",
    "plt.legend(loc = 'upper left')\n",
    "plt.title('Logistic Regression F1 Scores')\n",
    "plt.show()"
   ]
  },
  {
   "cell_type": "code",
   "execution_count": 26,
   "metadata": {},
   "outputs": [
    {
     "data": {
      "text/plain": [
       "[0.13856812933025403,\n",
       " 0.1107011070110701,\n",
       " 0.12445730824891463,\n",
       " 0.13129770992366413,\n",
       " 0.27777777777777773]"
      ]
     },
     "execution_count": 26,
     "metadata": {},
     "output_type": "execute_result"
    }
   ],
   "source": [
    "smote_avg_score"
   ]
  },
  {
   "cell_type": "code",
   "execution_count": 27,
   "metadata": {},
   "outputs": [
    {
     "data": {
      "text/plain": [
       "[0.057295274835901404,\n",
       " 0.05262243006603909,\n",
       " 0.05642299863275366,\n",
       " 0.061176108730568717,\n",
       " 0.14039687866440895]"
      ]
     },
     "execution_count": 27,
     "metadata": {},
     "output_type": "execute_result"
    }
   ],
   "source": [
    "l2_smote_avg_score"
   ]
  },
  {
   "cell_type": "code",
   "execution_count": 28,
   "metadata": {},
   "outputs": [
    {
     "data": {
      "image/png": "[encoded data removed]",
      "text/plain": [
       "<Figure size 432x288 with 1 Axes>"
      ]
     },
     "metadata": {
      "needs_background": "light"
     },
     "output_type": "display_data"
    }
   ],
   "source": [
    "precision = []\n",
    "recall = []\n",
    "for i in range(5):\n",
    "    a, b, _ = precision_recall_curve(classval[i], smote_predictions[i])\n",
    "    precision.append(a)\n",
    "    recall.append(b)\n",
    "\n",
    "# In matplotlib < plt.figure(20,10)\n",
    "for i in range(5):\n",
    "    step_kwargs = ({'step': 'post'}\n",
    "               if 'step' in signature(plt.fill_between).parameters\n",
    "               else {})\n",
    "    plt.step(recall[i], precision[i], color='b', alpha=0.2,where='post')\n",
    "    #plt.fill_between(recall[i], precision[i], alpha=0.2, color='b', **step_kwargs)\n",
    "    plt.xlabel('Recall')\n",
    "    plt.ylabel('Precision')\n",
    "    plt.ylim([0.0, 0.25])\n",
    "    plt.xlim([0.0, 1.0])\n",
    "    \n",
    "    #plt.figure(20, 10)\n",
    "# plt.step(recall, precision, color='b', alpha=0.2,where='post')\n",
    "# plt.fill_between(recall, precision, alpha=0.2, color='b', **step_kwargs)\n",
    "# plt.xlabel('Recall')\n",
    "# plt.ylabel('Precision')\n",
    "# plt.ylim([0.0, 1.05])\n",
    "# plt.xlim([0.0, 1.0])\n",
    "# plt.title('Precision Recall Curve: Avg precision-recall score={0:0.2f}'.format(average_precision))"
   ]
  },
  {
   "cell_type": "code",
   "execution_count": 29,
   "metadata": {},
   "outputs": [
    {
     "data": {
      "image/png": "[encoded data removed]",
      "text/plain": [
       "<Figure size 1080x720 with 1 Axes>"
      ]
     },
     "metadata": {
      "needs_background": "light"
     },
     "output_type": "display_data"
    }
   ],
   "source": [
    "fig, ax = plt.subplots(figsize = (15, 10))\n",
    "ax.step(recall[0], precision[0], color='b',where='post', label = \"year 1\")\n",
    "ax.step(recall[1], precision[1], color='r',where='post', label = \"year 2\")\n",
    "ax.step(recall[2], precision[2], color='y',where='post', label = \"year 3\")\n",
    "ax.step(recall[3], precision[3], color='black',where='post', label = \"year 4\")\n",
    "ax.step(recall[4], precision[4], color='g',where='post', label = \"year 5\")\n",
    "# ax.fill(recall[0], precision[0], 'b', \n",
    "#         recall[1], precision[1], 'r',\n",
    "#         recall[2], precision[2], 'y',\n",
    "#         recall[3], precision[3], 'black',\n",
    "#         recall[4], precision[4], 'g',\n",
    "#         alpha=0.3)\n",
    "plt.legend(loc = 'upper right')\n",
    "plt.xlabel('Recall')\n",
    "plt.ylabel('Precision')\n",
    "plt.ylim([0.0, 0.25])\n",
    "plt.xlim([0.0, 1.0])\n",
    "plt.title('Precision Recall Curve: ')\n",
    "plt.show()"
   ]
  },
  {
   "cell_type": "code",
   "execution_count": 30,
   "metadata": {},
   "outputs": [
    {
     "ename": "NameError",
     "evalue": "name 'PrecisionRecallCurve' is not defined",
     "output_type": "error",
     "traceback": [
      "\u001b[0;31m---------------------------------------------------------------------------\u001b[0m",
      "\u001b[0;31mNameError\u001b[0m                                 Traceback (most recent call last)",
      "\u001b[0;32m<ipython-input-30-e825514e1491>\u001b[0m in \u001b[0;36m<module>\u001b[0;34m\u001b[0m\n\u001b[0;32m----> 1\u001b[0;31m \u001b[0mviz\u001b[0m \u001b[0;34m=\u001b[0m \u001b[0mPrecisionRecallCurve\u001b[0m\u001b[0;34m(\u001b[0m\u001b[0;34m)\u001b[0m\u001b[0;34m\u001b[0m\u001b[0;34m\u001b[0m\u001b[0m\n\u001b[0m",
      "\u001b[0;31mNameError\u001b[0m: name 'PrecisionRecallCurve' is not defined"
     ]
    }
   ],
   "source": [
    "viz = PrecisionRecallCurve()"
   ]
  }
 ],
 "metadata": {
  "kernelspec": {
   "display_name": "Python 3",
   "language": "python",
   "name": "python3"
  },
  "language_info": {
   "codemirror_mode": {
    "name": "ipython",
    "version": 3
   },
   "file_extension": ".py",
   "mimetype": "text/x-python",
   "name": "python",
   "nbconvert_exporter": "python",
   "pygments_lexer": "ipython3",
   "version": "3.7.1"
  }
 },
 "nbformat": 4,
 "nbformat_minor": 2
}
